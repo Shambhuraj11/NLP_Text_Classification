{
 "cells": [
  {
   "cell_type": "code",
   "execution_count": 1,
   "id": "3801829f",
   "metadata": {},
   "outputs": [],
   "source": [
    "import pandas as pd \n",
    "import numpy as np"
   ]
  },
  {
   "cell_type": "code",
   "execution_count": 2,
   "id": "b066c5ec",
   "metadata": {},
   "outputs": [],
   "source": [
    "df=pd.read_csv(\"crypto_results.csv\")"
   ]
  },
  {
   "cell_type": "code",
   "execution_count": 3,
   "id": "548f9928",
   "metadata": {},
   "outputs": [
    {
     "data": {
      "text/html": [
       "<div>\n",
       "<style scoped>\n",
       "    .dataframe tbody tr th:only-of-type {\n",
       "        vertical-align: middle;\n",
       "    }\n",
       "\n",
       "    .dataframe tbody tr th {\n",
       "        vertical-align: top;\n",
       "    }\n",
       "\n",
       "    .dataframe thead th {\n",
       "        text-align: right;\n",
       "    }\n",
       "</style>\n",
       "<table border=\"1\" class=\"dataframe\">\n",
       "  <thead>\n",
       "    <tr style=\"text-align: right;\">\n",
       "      <th></th>\n",
       "      <th>sentence</th>\n",
       "      <th>tag</th>\n",
       "    </tr>\n",
       "  </thead>\n",
       "  <tbody>\n",
       "    <tr>\n",
       "      <th>0</th>\n",
       "      <td>welcome to coinmarketcap.com! this site was fo...</td>\n",
       "      <td>1</td>\n",
       "    </tr>\n",
       "    <tr>\n",
       "      <th>1</th>\n",
       "      <td>here at coinmarketcap, we work very hard to en...</td>\n",
       "      <td>1</td>\n",
       "    </tr>\n",
       "    <tr>\n",
       "      <th>2</th>\n",
       "      <td>each of our coin data pages has a graph that s...</td>\n",
       "      <td>1</td>\n",
       "    </tr>\n",
       "    <tr>\n",
       "      <th>3</th>\n",
       "      <td>we receive updated cryptocurrency prices direc...</td>\n",
       "      <td>1</td>\n",
       "    </tr>\n",
       "    <tr>\n",
       "      <th>4</th>\n",
       "      <td>related links  new to crypto?  learn how to bu...</td>\n",
       "      <td>1</td>\n",
       "    </tr>\n",
       "    <tr>\n",
       "      <th>...</th>\n",
       "      <td>...</td>\n",
       "      <td>...</td>\n",
       "    </tr>\n",
       "    <tr>\n",
       "      <th>4181</th>\n",
       "      <td>miners are rewarded for participating in trans...</td>\n",
       "      <td>1</td>\n",
       "    </tr>\n",
       "    <tr>\n",
       "      <th>4182</th>\n",
       "      <td>cryptocurrency wallets can either be software ...</td>\n",
       "      <td>1</td>\n",
       "    </tr>\n",
       "    <tr>\n",
       "      <th>4183</th>\n",
       "      <td>each wallet, both software and hardware, has a...</td>\n",
       "      <td>1</td>\n",
       "    </tr>\n",
       "    <tr>\n",
       "      <th>4184</th>\n",
       "      <td>this article on cryptocurrency is just one of ...</td>\n",
       "      <td>1</td>\n",
       "    </tr>\n",
       "    <tr>\n",
       "      <th>4185</th>\n",
       "      <td>financial modeling &amp; valuation (fmva)® certifi...</td>\n",
       "      <td>1</td>\n",
       "    </tr>\n",
       "  </tbody>\n",
       "</table>\n",
       "<p>4186 rows × 2 columns</p>\n",
       "</div>"
      ],
      "text/plain": [
       "                                               sentence  tag\n",
       "0     welcome to coinmarketcap.com! this site was fo...    1\n",
       "1     here at coinmarketcap, we work very hard to en...    1\n",
       "2     each of our coin data pages has a graph that s...    1\n",
       "3     we receive updated cryptocurrency prices direc...    1\n",
       "4     related links  new to crypto?  learn how to bu...    1\n",
       "...                                                 ...  ...\n",
       "4181  miners are rewarded for participating in trans...    1\n",
       "4182  cryptocurrency wallets can either be software ...    1\n",
       "4183  each wallet, both software and hardware, has a...    1\n",
       "4184  this article on cryptocurrency is just one of ...    1\n",
       "4185  financial modeling & valuation (fmva)® certifi...    1\n",
       "\n",
       "[4186 rows x 2 columns]"
      ]
     },
     "execution_count": 3,
     "metadata": {},
     "output_type": "execute_result"
    }
   ],
   "source": [
    "df"
   ]
  },
  {
   "cell_type": "code",
   "execution_count": 4,
   "id": "1b1ede64",
   "metadata": {},
   "outputs": [
    {
     "data": {
      "text/html": [
       "<div>\n",
       "<style scoped>\n",
       "    .dataframe tbody tr th:only-of-type {\n",
       "        vertical-align: middle;\n",
       "    }\n",
       "\n",
       "    .dataframe tbody tr th {\n",
       "        vertical-align: top;\n",
       "    }\n",
       "\n",
       "    .dataframe thead tr th {\n",
       "        text-align: left;\n",
       "    }\n",
       "\n",
       "    .dataframe thead tr:last-of-type th {\n",
       "        text-align: right;\n",
       "    }\n",
       "</style>\n",
       "<table border=\"1\" class=\"dataframe\">\n",
       "  <thead>\n",
       "    <tr>\n",
       "      <th></th>\n",
       "      <th colspan=\"4\" halign=\"left\">sentence</th>\n",
       "    </tr>\n",
       "    <tr>\n",
       "      <th></th>\n",
       "      <th>count</th>\n",
       "      <th>unique</th>\n",
       "      <th>top</th>\n",
       "      <th>freq</th>\n",
       "    </tr>\n",
       "    <tr>\n",
       "      <th>tag</th>\n",
       "      <th></th>\n",
       "      <th></th>\n",
       "      <th></th>\n",
       "      <th></th>\n",
       "    </tr>\n",
       "  </thead>\n",
       "  <tbody>\n",
       "    <tr>\n",
       "      <th>0</th>\n",
       "      <td>917</td>\n",
       "      <td>917</td>\n",
       "      <td>overall, nfts are a new tool that satisfies so...</td>\n",
       "      <td>1</td>\n",
       "    </tr>\n",
       "    <tr>\n",
       "      <th>1</th>\n",
       "      <td>3269</td>\n",
       "      <td>3269</td>\n",
       "      <td>according to the european central bank, the de...</td>\n",
       "      <td>1</td>\n",
       "    </tr>\n",
       "  </tbody>\n",
       "</table>\n",
       "</div>"
      ],
      "text/plain": [
       "    sentence                                                               \n",
       "       count unique                                                top freq\n",
       "tag                                                                        \n",
       "0        917    917  overall, nfts are a new tool that satisfies so...    1\n",
       "1       3269   3269  according to the european central bank, the de...    1"
      ]
     },
     "execution_count": 4,
     "metadata": {},
     "output_type": "execute_result"
    }
   ],
   "source": [
    "df.groupby('tag').describe()"
   ]
  },
  {
   "cell_type": "markdown",
   "id": "ca8442a9",
   "metadata": {},
   "source": [
    "### Remove Punctuation"
   ]
  },
  {
   "cell_type": "code",
   "execution_count": 5,
   "id": "982daa79",
   "metadata": {},
   "outputs": [],
   "source": [
    "# Remove punctuation\n",
    "\n",
    "import string \n",
    "string.punctuation\n",
    "\n",
    "def remove_punct(text):\n",
    "    clean_text=\"\".join([i for i in text if i not in string.punctuation])\n",
    "    return clean_text\n",
    "\n",
    "df['clean_sentence']=df['sentence'].apply(lambda x:remove_punct(x))\n",
    "    \n",
    "    "
   ]
  },
  {
   "cell_type": "code",
   "execution_count": 6,
   "id": "e0b2f3ad",
   "metadata": {},
   "outputs": [],
   "source": [
    "df.drop(labels=['sentence'],axis=1,inplace=True)"
   ]
  },
  {
   "cell_type": "code",
   "execution_count": 7,
   "id": "a0d1c982",
   "metadata": {},
   "outputs": [],
   "source": [
    "df['lower_clean_sentence']=df['clean_sentence'].apply(lambda x: x.lower())"
   ]
  },
  {
   "cell_type": "code",
   "execution_count": 8,
   "id": "20e75c27",
   "metadata": {},
   "outputs": [],
   "source": [
    "df.drop(labels=['clean_sentence'],axis=1,inplace=True)"
   ]
  },
  {
   "cell_type": "code",
   "execution_count": 9,
   "id": "ef38d168",
   "metadata": {},
   "outputs": [
    {
     "data": {
      "text/html": [
       "<div>\n",
       "<style scoped>\n",
       "    .dataframe tbody tr th:only-of-type {\n",
       "        vertical-align: middle;\n",
       "    }\n",
       "\n",
       "    .dataframe tbody tr th {\n",
       "        vertical-align: top;\n",
       "    }\n",
       "\n",
       "    .dataframe thead th {\n",
       "        text-align: right;\n",
       "    }\n",
       "</style>\n",
       "<table border=\"1\" class=\"dataframe\">\n",
       "  <thead>\n",
       "    <tr style=\"text-align: right;\">\n",
       "      <th></th>\n",
       "      <th>tag</th>\n",
       "      <th>lower_clean_sentence</th>\n",
       "    </tr>\n",
       "  </thead>\n",
       "  <tbody>\n",
       "    <tr>\n",
       "      <th>0</th>\n",
       "      <td>1</td>\n",
       "      <td>welcome to coinmarketcapcom this site was foun...</td>\n",
       "    </tr>\n",
       "    <tr>\n",
       "      <th>1</th>\n",
       "      <td>1</td>\n",
       "      <td>here at coinmarketcap we work very hard to ens...</td>\n",
       "    </tr>\n",
       "    <tr>\n",
       "      <th>2</th>\n",
       "      <td>1</td>\n",
       "      <td>each of our coin data pages has a graph that s...</td>\n",
       "    </tr>\n",
       "    <tr>\n",
       "      <th>3</th>\n",
       "      <td>1</td>\n",
       "      <td>we receive updated cryptocurrency prices direc...</td>\n",
       "    </tr>\n",
       "    <tr>\n",
       "      <th>4</th>\n",
       "      <td>1</td>\n",
       "      <td>related links  new to crypto  learn how to buy...</td>\n",
       "    </tr>\n",
       "    <tr>\n",
       "      <th>...</th>\n",
       "      <td>...</td>\n",
       "      <td>...</td>\n",
       "    </tr>\n",
       "    <tr>\n",
       "      <th>4181</th>\n",
       "      <td>1</td>\n",
       "      <td>miners are rewarded for participating in trans...</td>\n",
       "    </tr>\n",
       "    <tr>\n",
       "      <th>4182</th>\n",
       "      <td>1</td>\n",
       "      <td>cryptocurrency wallets can either be software ...</td>\n",
       "    </tr>\n",
       "    <tr>\n",
       "      <th>4183</th>\n",
       "      <td>1</td>\n",
       "      <td>each wallet both software and hardware has add...</td>\n",
       "    </tr>\n",
       "    <tr>\n",
       "      <th>4184</th>\n",
       "      <td>1</td>\n",
       "      <td>this article on cryptocurrency is just one of ...</td>\n",
       "    </tr>\n",
       "    <tr>\n",
       "      <th>4185</th>\n",
       "      <td>1</td>\n",
       "      <td>financial modeling  valuation fmva® certified ...</td>\n",
       "    </tr>\n",
       "  </tbody>\n",
       "</table>\n",
       "<p>4186 rows × 2 columns</p>\n",
       "</div>"
      ],
      "text/plain": [
       "      tag                               lower_clean_sentence\n",
       "0       1  welcome to coinmarketcapcom this site was foun...\n",
       "1       1  here at coinmarketcap we work very hard to ens...\n",
       "2       1  each of our coin data pages has a graph that s...\n",
       "3       1  we receive updated cryptocurrency prices direc...\n",
       "4       1  related links  new to crypto  learn how to buy...\n",
       "...   ...                                                ...\n",
       "4181    1  miners are rewarded for participating in trans...\n",
       "4182    1  cryptocurrency wallets can either be software ...\n",
       "4183    1  each wallet both software and hardware has add...\n",
       "4184    1  this article on cryptocurrency is just one of ...\n",
       "4185    1  financial modeling  valuation fmva® certified ...\n",
       "\n",
       "[4186 rows x 2 columns]"
      ]
     },
     "execution_count": 9,
     "metadata": {},
     "output_type": "execute_result"
    }
   ],
   "source": [
    "df"
   ]
  },
  {
   "cell_type": "markdown",
   "id": "f37a1ee9",
   "metadata": {},
   "source": [
    "### Tokenization "
   ]
  },
  {
   "cell_type": "code",
   "execution_count": 10,
   "id": "2e86accf",
   "metadata": {},
   "outputs": [],
   "source": [
    "from nltk import word_tokenize\n",
    "\n",
    "df['tokenized_sent']=df['lower_clean_sentence'].apply(lambda x: word_tokenize(x))\n"
   ]
  },
  {
   "cell_type": "code",
   "execution_count": 11,
   "id": "714f8a3b",
   "metadata": {},
   "outputs": [],
   "source": [
    "df.drop(labels=['lower_clean_sentence'],axis=1,inplace=True)"
   ]
  },
  {
   "cell_type": "code",
   "execution_count": 12,
   "id": "afe2139e",
   "metadata": {},
   "outputs": [
    {
     "data": {
      "text/html": [
       "<div>\n",
       "<style scoped>\n",
       "    .dataframe tbody tr th:only-of-type {\n",
       "        vertical-align: middle;\n",
       "    }\n",
       "\n",
       "    .dataframe tbody tr th {\n",
       "        vertical-align: top;\n",
       "    }\n",
       "\n",
       "    .dataframe thead th {\n",
       "        text-align: right;\n",
       "    }\n",
       "</style>\n",
       "<table border=\"1\" class=\"dataframe\">\n",
       "  <thead>\n",
       "    <tr style=\"text-align: right;\">\n",
       "      <th></th>\n",
       "      <th>tag</th>\n",
       "      <th>tokenized_sent</th>\n",
       "    </tr>\n",
       "  </thead>\n",
       "  <tbody>\n",
       "    <tr>\n",
       "      <th>0</th>\n",
       "      <td>1</td>\n",
       "      <td>[welcome, to, coinmarketcapcom, this, site, wa...</td>\n",
       "    </tr>\n",
       "    <tr>\n",
       "      <th>1</th>\n",
       "      <td>1</td>\n",
       "      <td>[here, at, coinmarketcap, we, work, very, hard...</td>\n",
       "    </tr>\n",
       "    <tr>\n",
       "      <th>2</th>\n",
       "      <td>1</td>\n",
       "      <td>[each, of, our, coin, data, pages, has, a, gra...</td>\n",
       "    </tr>\n",
       "    <tr>\n",
       "      <th>3</th>\n",
       "      <td>1</td>\n",
       "      <td>[we, receive, updated, cryptocurrency, prices,...</td>\n",
       "    </tr>\n",
       "    <tr>\n",
       "      <th>4</th>\n",
       "      <td>1</td>\n",
       "      <td>[related, links, new, to, crypto, learn, how, ...</td>\n",
       "    </tr>\n",
       "    <tr>\n",
       "      <th>...</th>\n",
       "      <td>...</td>\n",
       "      <td>...</td>\n",
       "    </tr>\n",
       "    <tr>\n",
       "      <th>4181</th>\n",
       "      <td>1</td>\n",
       "      <td>[miners, are, rewarded, for, participating, in...</td>\n",
       "    </tr>\n",
       "    <tr>\n",
       "      <th>4182</th>\n",
       "      <td>1</td>\n",
       "      <td>[cryptocurrency, wallets, can, either, be, sof...</td>\n",
       "    </tr>\n",
       "    <tr>\n",
       "      <th>4183</th>\n",
       "      <td>1</td>\n",
       "      <td>[each, wallet, both, software, and, hardware, ...</td>\n",
       "    </tr>\n",
       "    <tr>\n",
       "      <th>4184</th>\n",
       "      <td>1</td>\n",
       "      <td>[this, article, on, cryptocurrency, is, just, ...</td>\n",
       "    </tr>\n",
       "    <tr>\n",
       "      <th>4185</th>\n",
       "      <td>1</td>\n",
       "      <td>[financial, modeling, valuation, fmva®, certif...</td>\n",
       "    </tr>\n",
       "  </tbody>\n",
       "</table>\n",
       "<p>4186 rows × 2 columns</p>\n",
       "</div>"
      ],
      "text/plain": [
       "      tag                                     tokenized_sent\n",
       "0       1  [welcome, to, coinmarketcapcom, this, site, wa...\n",
       "1       1  [here, at, coinmarketcap, we, work, very, hard...\n",
       "2       1  [each, of, our, coin, data, pages, has, a, gra...\n",
       "3       1  [we, receive, updated, cryptocurrency, prices,...\n",
       "4       1  [related, links, new, to, crypto, learn, how, ...\n",
       "...   ...                                                ...\n",
       "4181    1  [miners, are, rewarded, for, participating, in...\n",
       "4182    1  [cryptocurrency, wallets, can, either, be, sof...\n",
       "4183    1  [each, wallet, both, software, and, hardware, ...\n",
       "4184    1  [this, article, on, cryptocurrency, is, just, ...\n",
       "4185    1  [financial, modeling, valuation, fmva®, certif...\n",
       "\n",
       "[4186 rows x 2 columns]"
      ]
     },
     "execution_count": 12,
     "metadata": {},
     "output_type": "execute_result"
    }
   ],
   "source": [
    "df"
   ]
  },
  {
   "cell_type": "markdown",
   "id": "ea38ff1f",
   "metadata": {},
   "source": [
    "### Removing Stopwords"
   ]
  },
  {
   "cell_type": "code",
   "execution_count": 13,
   "id": "752872c9",
   "metadata": {},
   "outputs": [],
   "source": [
    "\n",
    "\n",
    "import nltk\n",
    "\n",
    "stopwords=nltk.corpus.stopwords.words('english')\n",
    "\n",
    "def remove_stopwords(text):\n",
    "    output=[i for i in text if i not in stopwords]\n",
    "    return output\n",
    "\n",
    "df['no_stopwords']=df['tokenized_sent'].apply(lambda x : remove_stopwords(x))"
   ]
  },
  {
   "cell_type": "code",
   "execution_count": 14,
   "id": "ed6f186f",
   "metadata": {},
   "outputs": [],
   "source": [
    "df.drop(labels=['tokenized_sent'],axis=1,inplace=True)"
   ]
  },
  {
   "cell_type": "code",
   "execution_count": 15,
   "id": "69ad1a85",
   "metadata": {},
   "outputs": [
    {
     "data": {
      "text/html": [
       "<div>\n",
       "<style scoped>\n",
       "    .dataframe tbody tr th:only-of-type {\n",
       "        vertical-align: middle;\n",
       "    }\n",
       "\n",
       "    .dataframe tbody tr th {\n",
       "        vertical-align: top;\n",
       "    }\n",
       "\n",
       "    .dataframe thead th {\n",
       "        text-align: right;\n",
       "    }\n",
       "</style>\n",
       "<table border=\"1\" class=\"dataframe\">\n",
       "  <thead>\n",
       "    <tr style=\"text-align: right;\">\n",
       "      <th></th>\n",
       "      <th>tag</th>\n",
       "      <th>no_stopwords</th>\n",
       "    </tr>\n",
       "  </thead>\n",
       "  <tbody>\n",
       "    <tr>\n",
       "      <th>0</th>\n",
       "      <td>1</td>\n",
       "      <td>[welcome, coinmarketcapcom, site, founded, may...</td>\n",
       "    </tr>\n",
       "    <tr>\n",
       "      <th>1</th>\n",
       "      <td>1</td>\n",
       "      <td>[coinmarketcap, work, hard, ensure, relevant, ...</td>\n",
       "    </tr>\n",
       "    <tr>\n",
       "      <th>2</th>\n",
       "      <td>1</td>\n",
       "      <td>[coin, data, pages, graph, shows, current, his...</td>\n",
       "    </tr>\n",
       "    <tr>\n",
       "      <th>3</th>\n",
       "      <td>1</td>\n",
       "      <td>[receive, updated, cryptocurrency, prices, dir...</td>\n",
       "    </tr>\n",
       "    <tr>\n",
       "      <th>4</th>\n",
       "      <td>1</td>\n",
       "      <td>[related, links, new, crypto, learn, buy, bitc...</td>\n",
       "    </tr>\n",
       "    <tr>\n",
       "      <th>...</th>\n",
       "      <td>...</td>\n",
       "      <td>...</td>\n",
       "    </tr>\n",
       "    <tr>\n",
       "      <th>4181</th>\n",
       "      <td>1</td>\n",
       "      <td>[miners, rewarded, participating, transaction,...</td>\n",
       "    </tr>\n",
       "    <tr>\n",
       "      <th>4182</th>\n",
       "      <td>1</td>\n",
       "      <td>[cryptocurrency, wallets, either, software, ap...</td>\n",
       "    </tr>\n",
       "    <tr>\n",
       "      <th>4183</th>\n",
       "      <td>1</td>\n",
       "      <td>[wallet, software, hardware, addresses, resemb...</td>\n",
       "    </tr>\n",
       "    <tr>\n",
       "      <th>4184</th>\n",
       "      <td>1</td>\n",
       "      <td>[article, cryptocurrency, one, hundreds, resou...</td>\n",
       "    </tr>\n",
       "    <tr>\n",
       "      <th>4185</th>\n",
       "      <td>1</td>\n",
       "      <td>[financial, modeling, valuation, fmva®, certif...</td>\n",
       "    </tr>\n",
       "  </tbody>\n",
       "</table>\n",
       "<p>4186 rows × 2 columns</p>\n",
       "</div>"
      ],
      "text/plain": [
       "      tag                                       no_stopwords\n",
       "0       1  [welcome, coinmarketcapcom, site, founded, may...\n",
       "1       1  [coinmarketcap, work, hard, ensure, relevant, ...\n",
       "2       1  [coin, data, pages, graph, shows, current, his...\n",
       "3       1  [receive, updated, cryptocurrency, prices, dir...\n",
       "4       1  [related, links, new, crypto, learn, buy, bitc...\n",
       "...   ...                                                ...\n",
       "4181    1  [miners, rewarded, participating, transaction,...\n",
       "4182    1  [cryptocurrency, wallets, either, software, ap...\n",
       "4183    1  [wallet, software, hardware, addresses, resemb...\n",
       "4184    1  [article, cryptocurrency, one, hundreds, resou...\n",
       "4185    1  [financial, modeling, valuation, fmva®, certif...\n",
       "\n",
       "[4186 rows x 2 columns]"
      ]
     },
     "execution_count": 15,
     "metadata": {},
     "output_type": "execute_result"
    }
   ],
   "source": [
    "df"
   ]
  },
  {
   "cell_type": "markdown",
   "id": "bbb64421",
   "metadata": {},
   "source": [
    "### Lemmatizer"
   ]
  },
  {
   "cell_type": "code",
   "execution_count": 16,
   "id": "910899bf",
   "metadata": {},
   "outputs": [],
   "source": [
    "\n",
    "from nltk.stem import WordNetLemmatizer\n",
    "\n",
    "lema=WordNetLemmatizer()\n",
    "\n",
    "def lemmatizer(text):\n",
    "    lema_text=[lema.lemmatize(word) for word in text]\n",
    "    return lema_text\n",
    "\n",
    "df['lema_text']=df['no_stopwords'].apply(lambda x:lemmatizer(x))\n"
   ]
  },
  {
   "cell_type": "code",
   "execution_count": 17,
   "id": "5c0d8b11",
   "metadata": {},
   "outputs": [
    {
     "data": {
      "text/html": [
       "<div>\n",
       "<style scoped>\n",
       "    .dataframe tbody tr th:only-of-type {\n",
       "        vertical-align: middle;\n",
       "    }\n",
       "\n",
       "    .dataframe tbody tr th {\n",
       "        vertical-align: top;\n",
       "    }\n",
       "\n",
       "    .dataframe thead th {\n",
       "        text-align: right;\n",
       "    }\n",
       "</style>\n",
       "<table border=\"1\" class=\"dataframe\">\n",
       "  <thead>\n",
       "    <tr style=\"text-align: right;\">\n",
       "      <th></th>\n",
       "      <th>tag</th>\n",
       "      <th>no_stopwords</th>\n",
       "      <th>lema_text</th>\n",
       "    </tr>\n",
       "  </thead>\n",
       "  <tbody>\n",
       "    <tr>\n",
       "      <th>0</th>\n",
       "      <td>1</td>\n",
       "      <td>[welcome, coinmarketcapcom, site, founded, may...</td>\n",
       "      <td>[welcome, coinmarketcapcom, site, founded, may...</td>\n",
       "    </tr>\n",
       "    <tr>\n",
       "      <th>1</th>\n",
       "      <td>1</td>\n",
       "      <td>[coinmarketcap, work, hard, ensure, relevant, ...</td>\n",
       "      <td>[coinmarketcap, work, hard, ensure, relevant, ...</td>\n",
       "    </tr>\n",
       "    <tr>\n",
       "      <th>2</th>\n",
       "      <td>1</td>\n",
       "      <td>[coin, data, pages, graph, shows, current, his...</td>\n",
       "      <td>[coin, data, page, graph, show, current, histo...</td>\n",
       "    </tr>\n",
       "    <tr>\n",
       "      <th>3</th>\n",
       "      <td>1</td>\n",
       "      <td>[receive, updated, cryptocurrency, prices, dir...</td>\n",
       "      <td>[receive, updated, cryptocurrency, price, dire...</td>\n",
       "    </tr>\n",
       "    <tr>\n",
       "      <th>4</th>\n",
       "      <td>1</td>\n",
       "      <td>[related, links, new, crypto, learn, buy, bitc...</td>\n",
       "      <td>[related, link, new, crypto, learn, buy, bitco...</td>\n",
       "    </tr>\n",
       "    <tr>\n",
       "      <th>...</th>\n",
       "      <td>...</td>\n",
       "      <td>...</td>\n",
       "      <td>...</td>\n",
       "    </tr>\n",
       "    <tr>\n",
       "      <th>4181</th>\n",
       "      <td>1</td>\n",
       "      <td>[miners, rewarded, participating, transaction,...</td>\n",
       "      <td>[miner, rewarded, participating, transaction, ...</td>\n",
       "    </tr>\n",
       "    <tr>\n",
       "      <th>4182</th>\n",
       "      <td>1</td>\n",
       "      <td>[cryptocurrency, wallets, either, software, ap...</td>\n",
       "      <td>[cryptocurrency, wallet, either, software, app...</td>\n",
       "    </tr>\n",
       "    <tr>\n",
       "      <th>4183</th>\n",
       "      <td>1</td>\n",
       "      <td>[wallet, software, hardware, addresses, resemb...</td>\n",
       "      <td>[wallet, software, hardware, address, resemble...</td>\n",
       "    </tr>\n",
       "    <tr>\n",
       "      <th>4184</th>\n",
       "      <td>1</td>\n",
       "      <td>[article, cryptocurrency, one, hundreds, resou...</td>\n",
       "      <td>[article, cryptocurrency, one, hundred, resour...</td>\n",
       "    </tr>\n",
       "    <tr>\n",
       "      <th>4185</th>\n",
       "      <td>1</td>\n",
       "      <td>[financial, modeling, valuation, fmva®, certif...</td>\n",
       "      <td>[financial, modeling, valuation, fmva®, certif...</td>\n",
       "    </tr>\n",
       "  </tbody>\n",
       "</table>\n",
       "<p>4186 rows × 3 columns</p>\n",
       "</div>"
      ],
      "text/plain": [
       "      tag                                       no_stopwords  \\\n",
       "0       1  [welcome, coinmarketcapcom, site, founded, may...   \n",
       "1       1  [coinmarketcap, work, hard, ensure, relevant, ...   \n",
       "2       1  [coin, data, pages, graph, shows, current, his...   \n",
       "3       1  [receive, updated, cryptocurrency, prices, dir...   \n",
       "4       1  [related, links, new, crypto, learn, buy, bitc...   \n",
       "...   ...                                                ...   \n",
       "4181    1  [miners, rewarded, participating, transaction,...   \n",
       "4182    1  [cryptocurrency, wallets, either, software, ap...   \n",
       "4183    1  [wallet, software, hardware, addresses, resemb...   \n",
       "4184    1  [article, cryptocurrency, one, hundreds, resou...   \n",
       "4185    1  [financial, modeling, valuation, fmva®, certif...   \n",
       "\n",
       "                                              lema_text  \n",
       "0     [welcome, coinmarketcapcom, site, founded, may...  \n",
       "1     [coinmarketcap, work, hard, ensure, relevant, ...  \n",
       "2     [coin, data, page, graph, show, current, histo...  \n",
       "3     [receive, updated, cryptocurrency, price, dire...  \n",
       "4     [related, link, new, crypto, learn, buy, bitco...  \n",
       "...                                                 ...  \n",
       "4181  [miner, rewarded, participating, transaction, ...  \n",
       "4182  [cryptocurrency, wallet, either, software, app...  \n",
       "4183  [wallet, software, hardware, address, resemble...  \n",
       "4184  [article, cryptocurrency, one, hundred, resour...  \n",
       "4185  [financial, modeling, valuation, fmva®, certif...  \n",
       "\n",
       "[4186 rows x 3 columns]"
      ]
     },
     "execution_count": 17,
     "metadata": {},
     "output_type": "execute_result"
    }
   ],
   "source": [
    "df"
   ]
  },
  {
   "cell_type": "code",
   "execution_count": 18,
   "id": "25015d54",
   "metadata": {},
   "outputs": [],
   "source": [
    "df.drop(labels=['no_stopwords'],axis=1,inplace=True)"
   ]
  },
  {
   "cell_type": "code",
   "execution_count": 19,
   "id": "032ef1b2",
   "metadata": {},
   "outputs": [
    {
     "data": {
      "text/html": [
       "<div>\n",
       "<style scoped>\n",
       "    .dataframe tbody tr th:only-of-type {\n",
       "        vertical-align: middle;\n",
       "    }\n",
       "\n",
       "    .dataframe tbody tr th {\n",
       "        vertical-align: top;\n",
       "    }\n",
       "\n",
       "    .dataframe thead th {\n",
       "        text-align: right;\n",
       "    }\n",
       "</style>\n",
       "<table border=\"1\" class=\"dataframe\">\n",
       "  <thead>\n",
       "    <tr style=\"text-align: right;\">\n",
       "      <th></th>\n",
       "      <th>tag</th>\n",
       "      <th>lema_text</th>\n",
       "    </tr>\n",
       "  </thead>\n",
       "  <tbody>\n",
       "    <tr>\n",
       "      <th>0</th>\n",
       "      <td>1</td>\n",
       "      <td>[welcome, coinmarketcapcom, site, founded, may...</td>\n",
       "    </tr>\n",
       "    <tr>\n",
       "      <th>1</th>\n",
       "      <td>1</td>\n",
       "      <td>[coinmarketcap, work, hard, ensure, relevant, ...</td>\n",
       "    </tr>\n",
       "    <tr>\n",
       "      <th>2</th>\n",
       "      <td>1</td>\n",
       "      <td>[coin, data, page, graph, show, current, histo...</td>\n",
       "    </tr>\n",
       "    <tr>\n",
       "      <th>3</th>\n",
       "      <td>1</td>\n",
       "      <td>[receive, updated, cryptocurrency, price, dire...</td>\n",
       "    </tr>\n",
       "    <tr>\n",
       "      <th>4</th>\n",
       "      <td>1</td>\n",
       "      <td>[related, link, new, crypto, learn, buy, bitco...</td>\n",
       "    </tr>\n",
       "    <tr>\n",
       "      <th>...</th>\n",
       "      <td>...</td>\n",
       "      <td>...</td>\n",
       "    </tr>\n",
       "    <tr>\n",
       "      <th>4181</th>\n",
       "      <td>1</td>\n",
       "      <td>[miner, rewarded, participating, transaction, ...</td>\n",
       "    </tr>\n",
       "    <tr>\n",
       "      <th>4182</th>\n",
       "      <td>1</td>\n",
       "      <td>[cryptocurrency, wallet, either, software, app...</td>\n",
       "    </tr>\n",
       "    <tr>\n",
       "      <th>4183</th>\n",
       "      <td>1</td>\n",
       "      <td>[wallet, software, hardware, address, resemble...</td>\n",
       "    </tr>\n",
       "    <tr>\n",
       "      <th>4184</th>\n",
       "      <td>1</td>\n",
       "      <td>[article, cryptocurrency, one, hundred, resour...</td>\n",
       "    </tr>\n",
       "    <tr>\n",
       "      <th>4185</th>\n",
       "      <td>1</td>\n",
       "      <td>[financial, modeling, valuation, fmva®, certif...</td>\n",
       "    </tr>\n",
       "  </tbody>\n",
       "</table>\n",
       "<p>4186 rows × 2 columns</p>\n",
       "</div>"
      ],
      "text/plain": [
       "      tag                                          lema_text\n",
       "0       1  [welcome, coinmarketcapcom, site, founded, may...\n",
       "1       1  [coinmarketcap, work, hard, ensure, relevant, ...\n",
       "2       1  [coin, data, page, graph, show, current, histo...\n",
       "3       1  [receive, updated, cryptocurrency, price, dire...\n",
       "4       1  [related, link, new, crypto, learn, buy, bitco...\n",
       "...   ...                                                ...\n",
       "4181    1  [miner, rewarded, participating, transaction, ...\n",
       "4182    1  [cryptocurrency, wallet, either, software, app...\n",
       "4183    1  [wallet, software, hardware, address, resemble...\n",
       "4184    1  [article, cryptocurrency, one, hundred, resour...\n",
       "4185    1  [financial, modeling, valuation, fmva®, certif...\n",
       "\n",
       "[4186 rows x 2 columns]"
      ]
     },
     "execution_count": 19,
     "metadata": {},
     "output_type": "execute_result"
    }
   ],
   "source": [
    "df"
   ]
  },
  {
   "cell_type": "code",
   "execution_count": null,
   "id": "89f60ab2",
   "metadata": {},
   "outputs": [],
   "source": []
  },
  {
   "cell_type": "code",
   "execution_count": 20,
   "id": "1de6436f",
   "metadata": {},
   "outputs": [],
   "source": [
    "from nltk.tokenize.treebank import TreebankWordDetokenizer\n",
    "df['clean_setence']=df['lema_text'].apply(lambda x:TreebankWordDetokenizer().detokenize(x))\n"
   ]
  },
  {
   "cell_type": "code",
   "execution_count": 21,
   "id": "5a6a530c",
   "metadata": {},
   "outputs": [],
   "source": [
    "df.drop(labels=['lema_text'],axis=1,inplace=True)"
   ]
  },
  {
   "cell_type": "markdown",
   "id": "8895cff8",
   "metadata": {},
   "source": [
    "### Cleaned Dataset"
   ]
  },
  {
   "cell_type": "code",
   "execution_count": 22,
   "id": "0735510f",
   "metadata": {},
   "outputs": [
    {
     "data": {
      "text/html": [
       "<div>\n",
       "<style scoped>\n",
       "    .dataframe tbody tr th:only-of-type {\n",
       "        vertical-align: middle;\n",
       "    }\n",
       "\n",
       "    .dataframe tbody tr th {\n",
       "        vertical-align: top;\n",
       "    }\n",
       "\n",
       "    .dataframe thead th {\n",
       "        text-align: right;\n",
       "    }\n",
       "</style>\n",
       "<table border=\"1\" class=\"dataframe\">\n",
       "  <thead>\n",
       "    <tr style=\"text-align: right;\">\n",
       "      <th></th>\n",
       "      <th>tag</th>\n",
       "      <th>clean_setence</th>\n",
       "    </tr>\n",
       "  </thead>\n",
       "  <tbody>\n",
       "    <tr>\n",
       "      <th>0</th>\n",
       "      <td>1</td>\n",
       "      <td>welcome coinmarketcapcom site founded may 2013...</td>\n",
       "    </tr>\n",
       "    <tr>\n",
       "      <th>1</th>\n",
       "      <td>1</td>\n",
       "      <td>coinmarketcap work hard ensure relevant uptoda...</td>\n",
       "    </tr>\n",
       "    <tr>\n",
       "      <th>2</th>\n",
       "      <td>1</td>\n",
       "      <td>coin data page graph show current historic pri...</td>\n",
       "    </tr>\n",
       "    <tr>\n",
       "      <th>3</th>\n",
       "      <td>1</td>\n",
       "      <td>receive updated cryptocurrency price directly ...</td>\n",
       "    </tr>\n",
       "    <tr>\n",
       "      <th>4</th>\n",
       "      <td>1</td>\n",
       "      <td>related link new crypto learn buy bitcoin toda...</td>\n",
       "    </tr>\n",
       "    <tr>\n",
       "      <th>...</th>\n",
       "      <td>...</td>\n",
       "      <td>...</td>\n",
       "    </tr>\n",
       "    <tr>\n",
       "      <th>4181</th>\n",
       "      <td>1</td>\n",
       "      <td>miner rewarded participating transaction verif...</td>\n",
       "    </tr>\n",
       "    <tr>\n",
       "      <th>4182</th>\n",
       "      <td>1</td>\n",
       "      <td>cryptocurrency wallet either software apps har...</td>\n",
       "    </tr>\n",
       "    <tr>\n",
       "      <th>4183</th>\n",
       "      <td>1</td>\n",
       "      <td>wallet software hardware address resemble hash...</td>\n",
       "    </tr>\n",
       "    <tr>\n",
       "      <th>4184</th>\n",
       "      <td>1</td>\n",
       "      <td>article cryptocurrency one hundred resource cf...</td>\n",
       "    </tr>\n",
       "    <tr>\n",
       "      <th>4185</th>\n",
       "      <td>1</td>\n",
       "      <td>financial modeling valuation fmva® certified b...</td>\n",
       "    </tr>\n",
       "  </tbody>\n",
       "</table>\n",
       "<p>4186 rows × 2 columns</p>\n",
       "</div>"
      ],
      "text/plain": [
       "      tag                                      clean_setence\n",
       "0       1  welcome coinmarketcapcom site founded may 2013...\n",
       "1       1  coinmarketcap work hard ensure relevant uptoda...\n",
       "2       1  coin data page graph show current historic pri...\n",
       "3       1  receive updated cryptocurrency price directly ...\n",
       "4       1  related link new crypto learn buy bitcoin toda...\n",
       "...   ...                                                ...\n",
       "4181    1  miner rewarded participating transaction verif...\n",
       "4182    1  cryptocurrency wallet either software apps har...\n",
       "4183    1  wallet software hardware address resemble hash...\n",
       "4184    1  article cryptocurrency one hundred resource cf...\n",
       "4185    1  financial modeling valuation fmva® certified b...\n",
       "\n",
       "[4186 rows x 2 columns]"
      ]
     },
     "execution_count": 22,
     "metadata": {},
     "output_type": "execute_result"
    }
   ],
   "source": [
    "df"
   ]
  },
  {
   "cell_type": "code",
   "execution_count": 23,
   "id": "bc484f78",
   "metadata": {},
   "outputs": [],
   "source": [
    "df.to_csv('Final_dataset.csv')"
   ]
  },
  {
   "cell_type": "markdown",
   "id": "61a189d2",
   "metadata": {},
   "source": [
    "### Data spliting "
   ]
  },
  {
   "cell_type": "code",
   "execution_count": 24,
   "id": "1de414a2",
   "metadata": {},
   "outputs": [],
   "source": [
    "from sklearn.model_selection import train_test_split\n",
    "\n",
    "x_train,x_test,y_train,y_test=train_test_split(df.clean_setence,df.tag,test_size=0.25,random_state=30)\n"
   ]
  },
  {
   "cell_type": "code",
   "execution_count": 25,
   "id": "4b25ce81",
   "metadata": {},
   "outputs": [
    {
     "data": {
      "text/plain": [
       "3768    second selfregulatory framework involving effe...\n",
       "784     wartorn country area little government financi...\n",
       "1134    achieve interoperability unconnected ledger ha...\n",
       "3167    yi ’ case expecting bitcoin ’ price fall alleg...\n",
       "1602    may 31 year rbi directed bank cite 2018 ban re...\n",
       "                              ...                        \n",
       "3335    edward thorp godfather billionaire investor ac...\n",
       "1099    work explains key concept blockchain implement...\n",
       "2514    shown table 1 blockchain network bitcoin ether...\n",
       "3606    note product shown informational purpose consi...\n",
       "2575    annual electricity consumption cryptocurrency ...\n",
       "Name: clean_setence, Length: 3139, dtype: object"
      ]
     },
     "execution_count": 25,
     "metadata": {},
     "output_type": "execute_result"
    }
   ],
   "source": [
    "x_train"
   ]
  },
  {
   "cell_type": "code",
   "execution_count": 26,
   "id": "b3350b73",
   "metadata": {},
   "outputs": [
    {
     "data": {
      "text/plain": [
       "1933    coincheck said blog post hack caused immense d...\n",
       "2190    cryptocurrencies bitcoin work technology known...\n",
       "2726    also note need suitable selection validator ha...\n",
       "2289    vitalik buterin cofounder ethereum also twitte...\n",
       "2793    kliazovich bouvry p khan su 2013 den data cent...\n",
       "                              ...                        \n",
       "152     “ someday probably fed scrambling ” say new yo...\n",
       "3864    two option trading cryptocurrency market buy a...\n",
       "1194    sec ’ office investor education advocacy issue...\n",
       "2173    russian government developing central bank dig...\n",
       "3944    final policy brief discus cryptocurrencies bec...\n",
       "Name: clean_setence, Length: 1047, dtype: object"
      ]
     },
     "execution_count": 26,
     "metadata": {},
     "output_type": "execute_result"
    }
   ],
   "source": [
    "x_test"
   ]
  },
  {
   "cell_type": "markdown",
   "id": "72e399b4",
   "metadata": {},
   "source": [
    "### Converting text to numbers"
   ]
  },
  {
   "cell_type": "code",
   "execution_count": 27,
   "id": "dbc06121",
   "metadata": {},
   "outputs": [
    {
     "data": {
      "text/plain": [
       "array([[0, 0, 0, ..., 0, 0, 0],\n",
       "       [0, 0, 0, ..., 0, 0, 0],\n",
       "       [0, 0, 0, ..., 0, 0, 0],\n",
       "       ...,\n",
       "       [0, 0, 0, ..., 0, 0, 0],\n",
       "       [0, 0, 0, ..., 0, 0, 0],\n",
       "       [0, 0, 0, ..., 0, 0, 0]], dtype=int64)"
      ]
     },
     "execution_count": 27,
     "metadata": {},
     "output_type": "execute_result"
    }
   ],
   "source": [
    "from sklearn.feature_extraction.text import CountVectorizer\n",
    "v=CountVectorizer()\n",
    "x_train_count=v.fit_transform(x_train.values)\n",
    "x_train_count.toarray()\n"
   ]
  },
  {
   "cell_type": "code",
   "execution_count": 28,
   "id": "c214fcad",
   "metadata": {},
   "outputs": [
    {
     "data": {
      "text/plain": [
       "array([[0, 0, 0, ..., 0, 0, 0],\n",
       "       [0, 0, 0, ..., 0, 0, 0],\n",
       "       [0, 0, 0, ..., 0, 0, 0],\n",
       "       ...,\n",
       "       [0, 0, 0, ..., 0, 0, 0],\n",
       "       [0, 0, 0, ..., 0, 0, 0],\n",
       "       [0, 0, 0, ..., 0, 0, 0]], dtype=int64)"
      ]
     },
     "execution_count": 28,
     "metadata": {},
     "output_type": "execute_result"
    }
   ],
   "source": [
    "x_test_count=v.transform(x_test.values)\n",
    "\n",
    "x_test_count.toarray()"
   ]
  },
  {
   "cell_type": "markdown",
   "id": "2d2eb599",
   "metadata": {},
   "source": [
    "### Model Building  with Hyper parameter tuning"
   ]
  },
  {
   "cell_type": "code",
   "execution_count": 29,
   "id": "f5c2abbe",
   "metadata": {},
   "outputs": [
    {
     "name": "stdout",
     "output_type": "stream",
     "text": [
      "{'C': 0.1, 'penalty': 'l2', 'solver': 'liblinear'}\n"
     ]
    }
   ],
   "source": [
    "from sklearn.model_selection import GridSearchCV\n",
    "from sklearn.linear_model import LogisticRegression\n",
    "# define models and parameters\n",
    "model = LogisticRegression()\n",
    "solvers = ['newton-cg', 'lbfgs', 'liblinear']\n",
    "penalty = ['l2']\n",
    "c_values = [100, 10, 1.0, 0.1, 0.01]\n",
    "# define grid search\n",
    "grid = dict(solver=solvers,penalty=penalty,C=c_values)\n",
    "grid_search = GridSearchCV(estimator=model, param_grid=grid, n_jobs=-1, cv=10, scoring='accuracy',error_score=0)\n",
    "grid_result = grid_search.fit(x_train_count,y_train)\n",
    "print(grid_result.best_params_)"
   ]
  },
  {
   "cell_type": "code",
   "execution_count": 30,
   "id": "554e4d76",
   "metadata": {},
   "outputs": [
    {
     "data": {
      "text/plain": [
       "LogisticRegression(C=0.1, solver='liblinear')"
      ]
     },
     "execution_count": 30,
     "metadata": {},
     "output_type": "execute_result"
    }
   ],
   "source": [
    "model1=LogisticRegression(C=0.1,penalty='l2',solver='liblinear')\n",
    "model1.fit(x_train_count,y_train)"
   ]
  },
  {
   "cell_type": "code",
   "execution_count": 31,
   "id": "657e12ac",
   "metadata": {},
   "outputs": [
    {
     "data": {
      "text/plain": [
       "0.8194842406876791"
      ]
     },
     "execution_count": 31,
     "metadata": {},
     "output_type": "execute_result"
    }
   ],
   "source": [
    "model1.score(x_test_count,y_test)"
   ]
  },
  {
   "cell_type": "code",
   "execution_count": null,
   "id": "8c30a445",
   "metadata": {},
   "outputs": [],
   "source": []
  },
  {
   "cell_type": "code",
   "execution_count": 32,
   "id": "e985a703",
   "metadata": {},
   "outputs": [
    {
     "data": {
      "text/plain": [
       "MultinomialNB()"
      ]
     },
     "execution_count": 32,
     "metadata": {},
     "output_type": "execute_result"
    }
   ],
   "source": [
    "from sklearn.naive_bayes import MultinomialNB\n",
    "model2=MultinomialNB()\n",
    "model2.fit(x_train_count,y_train)\n"
   ]
  },
  {
   "cell_type": "code",
   "execution_count": 33,
   "id": "3315853e",
   "metadata": {},
   "outputs": [
    {
     "data": {
      "text/plain": [
       "0.8099331423113658"
      ]
     },
     "execution_count": 33,
     "metadata": {},
     "output_type": "execute_result"
    }
   ],
   "source": [
    "model2.score(x_test_count,y_test)\n"
   ]
  },
  {
   "cell_type": "code",
   "execution_count": null,
   "id": "3c28c369",
   "metadata": {},
   "outputs": [],
   "source": []
  },
  {
   "cell_type": "code",
   "execution_count": 34,
   "id": "dd7f9214",
   "metadata": {},
   "outputs": [
    {
     "name": "stdout",
     "output_type": "stream",
     "text": [
      "{'max_features': 'sqrt', 'n_estimators': 10}\n"
     ]
    }
   ],
   "source": [
    "from sklearn.ensemble import RandomForestClassifier\n",
    "model = RandomForestClassifier()\n",
    "n_estimators = [10, 100]\n",
    "max_features = ['sqrt', 'log2']\n",
    "grid2 = dict(n_estimators=n_estimators,max_features=max_features)\n",
    "grid_search = GridSearchCV(estimator=model, param_grid=grid2, n_jobs=-1, cv=5, scoring='accuracy',error_score=0)\n",
    "grid_result = grid_search.fit(x_train_count,y_train)\n",
    "print(grid_result.best_params_)"
   ]
  },
  {
   "cell_type": "code",
   "execution_count": 35,
   "id": "32cd0990",
   "metadata": {},
   "outputs": [
    {
     "data": {
      "text/plain": [
       "RandomForestClassifier(max_features='sqrt', n_estimators=10)"
      ]
     },
     "execution_count": 35,
     "metadata": {},
     "output_type": "execute_result"
    }
   ],
   "source": [
    "model3= RandomForestClassifier(max_features='sqrt',n_estimators=10)\n",
    "model3.fit(x_train_count,y_train)"
   ]
  },
  {
   "cell_type": "code",
   "execution_count": 36,
   "id": "8ad1e98c",
   "metadata": {},
   "outputs": [
    {
     "data": {
      "text/plain": [
       "0.8099331423113658"
      ]
     },
     "execution_count": 36,
     "metadata": {},
     "output_type": "execute_result"
    }
   ],
   "source": [
    "model3.score(x_test_count,y_test)"
   ]
  },
  {
   "cell_type": "code",
   "execution_count": null,
   "id": "4a751fe0",
   "metadata": {},
   "outputs": [],
   "source": []
  },
  {
   "cell_type": "code",
   "execution_count": 37,
   "id": "0acba495",
   "metadata": {},
   "outputs": [
    {
     "name": "stdout",
     "output_type": "stream",
     "text": [
      "{'C': 50, 'gamma': 'scale', 'kernel': 'rbf'}\n"
     ]
    }
   ],
   "source": [
    "from sklearn.svm import SVC\n",
    "model = SVC()\n",
    "kernel = ['poly', 'rbf', 'sigmoid']\n",
    "C = [50, 10, 1.0, 0.1, 0.01]\n",
    "gamma = ['scale']\n",
    "# define grid search\n",
    "grid = dict(kernel=kernel,C=C,gamma=gamma)\n",
    "grid_search = GridSearchCV(estimator=model, param_grid=grid, n_jobs=-1, cv=5, scoring='accuracy',error_score=0)\n",
    "grid_result = grid_search.fit(x_train_count,y_train)\n",
    "print(grid_result.best_params_)"
   ]
  },
  {
   "cell_type": "code",
   "execution_count": 38,
   "id": "6271d90a",
   "metadata": {},
   "outputs": [
    {
     "data": {
      "text/plain": [
       "SVC(C=50)"
      ]
     },
     "execution_count": 38,
     "metadata": {},
     "output_type": "execute_result"
    }
   ],
   "source": [
    "model4=SVC(C=50, gamma='scale',kernel='rbf')\n",
    "model4.fit(x_train_count,y_train)"
   ]
  },
  {
   "cell_type": "code",
   "execution_count": 39,
   "id": "9b1860e1",
   "metadata": {},
   "outputs": [
    {
     "data": {
      "text/plain": [
       "0.8471824259789876"
      ]
     },
     "execution_count": 39,
     "metadata": {},
     "output_type": "execute_result"
    }
   ],
   "source": [
    "model4.score(x_test_count,y_test)"
   ]
  },
  {
   "cell_type": "code",
   "execution_count": null,
   "id": "c324c01c",
   "metadata": {},
   "outputs": [],
   "source": []
  },
  {
   "cell_type": "code",
   "execution_count": 40,
   "id": "bbbe3c0b",
   "metadata": {},
   "outputs": [
    {
     "data": {
      "text/plain": [
       "25"
      ]
     },
     "execution_count": 40,
     "metadata": {},
     "output_type": "execute_result"
    }
   ],
   "source": []
  },
  {
   "cell_type": "code",
   "execution_count": null,
   "id": "e350b723",
   "metadata": {},
   "outputs": [],
   "source": []
  }
 ],
 "metadata": {
  "kernelspec": {
   "display_name": "Python 3",
   "language": "python",
   "name": "python3"
  },
  "language_info": {
   "codemirror_mode": {
    "name": "ipython",
    "version": 3
   },
   "file_extension": ".py",
   "mimetype": "text/x-python",
   "name": "python",
   "nbconvert_exporter": "python",
   "pygments_lexer": "ipython3",
   "version": "3.9.13"
  },
  "vscode": {
   "interpreter": {
    "hash": "17fc56473e95b014245ea877a25cf096bb03c2e7445af39cde863b0e6023cef0"
   }
  }
 },
 "nbformat": 4,
 "nbformat_minor": 5
}
